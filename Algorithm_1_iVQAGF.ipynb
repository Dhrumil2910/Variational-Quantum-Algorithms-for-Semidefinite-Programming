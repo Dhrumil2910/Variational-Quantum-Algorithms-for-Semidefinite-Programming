{
  "nbformat": 4,
  "nbformat_minor": 0,
  "metadata": {
    "colab": {
      "name": "Algorithm 1 - iVQAGF.ipynb",
      "provenance": [],
      "authorship_tag": "ABX9TyP2+/81Z6zxrLZVuz5Ml3rF"
    },
    "kernelspec": {
      "name": "python3",
      "display_name": "Python 3"
    },
    "language_info": {
      "name": "python"
    }
  },
  "cells": [
    {
      "cell_type": "code",
      "execution_count": null,
      "metadata": {
        "id": "mM_uR5Hf3_hj"
      },
      "outputs": [],
      "source": [
        "\"\"\"\n",
        "The following code simulates iVQAGF algorithm on QASM simulator.\n",
        "iVQAGF algorithm is a variational quantum algorithm for general form of semidefinite programs (SDPs) that we proposed in our paper.\n",
        "Here, we use iVQAGF to solve random instances of Max-Cut problem casted as an SDP.\n",
        "In the paper, we report simulation results for N = 8, 16, and 32, where N is the dimension of input Hermitian operators of an SDP.\n",
        "For writing clean, short and easily executable code, here we fix N = 4. By simply substituting another value of N and with some other minor changes, \n",
        "one can obtain results for that N.\n",
        "\"\"\""
      ]
    },
    {
      "cell_type": "code",
      "source": [
        "# imports\n",
        "%%capture\n",
        "import numpy as np\n",
        "import cvxpy as cp\n",
        "import scipy as sc\n",
        "import networkx as nt\n",
        "from networkx.generators.random_graphs import erdos_renyi_graph, fast_gnp_random_graph\n",
        "import pennylane as qml"
      ],
      "metadata": {
        "id": "CWbpWY4l7CqE"
      },
      "execution_count": null,
      "outputs": []
    },
    {
      "cell_type": "code",
      "source": [
        "# Generate a random graph\n",
        "\n",
        "# Number of vertices\n",
        "N = 4\n",
        "# probability\n",
        "p = 1\n",
        "# random graph\n",
        "g = fast_gnp_random_graph(N, p)\n",
        "# laplacian of the graph\n",
        "L = nt.linalg.laplacianmatrix.laplacian_matrix(g)"
      ],
      "metadata": {
        "id": "T8aQ_jRo7T8S"
      },
      "execution_count": null,
      "outputs": []
    },
    {
      "cell_type": "code",
      "source": [
        "# Solve SDP formulation of Max-Cut for the above generated graph using CVXPY package\n",
        "\n",
        "# Constraints\n",
        "A = []\n",
        "b = np.ones(N)\n",
        "\n",
        "for i in range(N):\n",
        "  temp = np.zeros((N, N))\n",
        "  temp[i][i] = 1\n",
        "  A.append(temp)\n",
        "\n",
        "# Instantiate a symmetric matrix variable.\n",
        "X = cp.Variable((N, N), symmetric=True)\n",
        "# Add positive definite constraint\n",
        "constraints = [X >> 0]\n",
        "\n",
        "constraints += [\n",
        "    cp.trace(A[i]@X) == b[i] for i in range(N)\n",
        "]\n",
        "\n",
        "# define an SDP with an objective function and constraints\n",
        "prob = cp.Problem(cp.Maximize(0.25*cp.trace(L.astype('double')@X)),\n",
        "                  constraints)\n",
        "\n",
        "# Solve SDP\n",
        "prob.solve(solver=cp.CVXOPT)\n",
        "\n",
        "# Results\n",
        "print(\"Optimal value:\", prob.value)"
      ],
      "metadata": {
        "id": "4zFCsso_8Gb7"
      },
      "execution_count": null,
      "outputs": []
    },
    {
      "cell_type": "code",
      "source": [
        "def decompose_into_pauli_strings(M):\n",
        "  \"\"\"\n",
        "  This function expresses an Hermitian operator as a linear combination of Pauli strings\n",
        "\n",
        "  :param M: Hermitian operator\n",
        "  \"\"\"\n",
        "  coeffs, pauli_string_objs = qml.utils.decompose_hamiltonian(M)\n",
        "  return qml.Hamiltonian(coeffs, pauli_string_objs)"
      ],
      "metadata": {
        "id": "9Zor4-5m9hzN"
      },
      "execution_count": null,
      "outputs": []
    },
    {
      "cell_type": "code",
      "source": [
        "# quantum circuit settings\n",
        "num_wires = 4\n",
        "num_layers = 4\n",
        "\n",
        "# quantum device\n",
        "# can also define the number of shots here\n",
        "device = qml.device(\"default.qubit\", wires=num_wires)\n",
        "\n",
        "# def the ansatz\n",
        "def circuit(param, wire):\n",
        "  \"\"\"\n",
        "  This function instantiates quantum circuit based on templates provided by pennylane\n",
        "\n",
        "  :param param: the parameters of the circuit\n",
        "  :wires: number of qubits\n",
        "  \"\"\"\n",
        "  qml.templates.StronglyEntanglingLayers(param, wires=wire)"
      ],
      "metadata": {
        "id": "y2cCWDMv97oW"
      },
      "execution_count": null,
      "outputs": []
    },
    {
      "cell_type": "code",
      "source": [
        "# defining C^T, B and choi operators.\n",
        "C = 0.25*L.todense()\n",
        "C_trans = C.transpose()\n",
        "B = np.eye(N)\n",
        "choi_op = np.zeros((N*N, N*N))\n",
        "# TODO\n",
        "for i in range(N):\n",
        "  choi_op[5*i][5*i] = 1\n",
        "\n",
        "# trace of the solution X\n",
        "lam = N"
      ],
      "metadata": {
        "id": "FraJLNP5Km5m"
      },
      "execution_count": null,
      "outputs": []
    },
    {
      "cell_type": "code",
      "source": [
        "@qml.qnode(device)\n",
        "def evalute_exp_wire1(param, M):\n",
        "  \"\"\"\n",
        "  This function evaluates the expectation value of a Hermitian operator on qubits 0 and 1\n",
        "\n",
        "  :param param: circuit parameters\n",
        "  :param M: Hermitian operator\n",
        "  \"\"\"\n",
        "  circuit(param, wire=[0, 1])\n",
        "  M_pauli = decompose_into_pauli_strings(M)\n",
        "  return qml.expval(M_pauli)\n",
        "  \n",
        "@qml.qnode(device)\n",
        "def evalute_exp_wire2(param, M):\n",
        "  \"\"\"\n",
        "  This function evaluates the expectation value of a Hermitian operator on qubits 2 and 3\n",
        "\n",
        "  :param param: circuit parameters\n",
        "  :param M: Hermitian operator\n",
        "  \"\"\"\n",
        "  circuit(param, wire=[2, 3])\n",
        "  M_pauli = decompose_into_pauli_strings(M)\n",
        "  return qml.expval(M_pauli)\n",
        "\n",
        "@qml.qnode(device)\n",
        "def evalute_exp_joint(param1, param2, M):\n",
        "  \"\"\"\n",
        "  This function evaluates the expectation value of a Hermitian operator on all qubits\n",
        "\n",
        "  :param param: circuit parameters\n",
        "  :param M: Hermitian operator\n",
        "  \"\"\"\n",
        "  circuit(param1, wire=[0, 1])\n",
        "  circuit(param2, wire=[2, 3])\n",
        "  M_pauli = decompose_into_pauli_strings(M)\n",
        "  return qml.expval(M_pauli)\n",
        "\n",
        "\n",
        "def cost_func_ALM_grad_step_and_gradient(param1, param2, mu, **kwargs):\n",
        "  \"\"\"\n",
        "  This function returns updated parameters required for gradient descent, as well as it\n",
        "  also evaluates full_gradient at current parameter values. \n",
        "\n",
        "  :param param1: circuit parameters corresponding to wires 0 and 1\n",
        "  :param param2: circuit parameters corresponding to wires 2 and 3\n",
        "  :param mu: trace of y\n",
        "  \"\"\"\n",
        "  gradient_single = qml.grad(evalute_exp_wire1, argnum=0)\n",
        "  grad_C_trans = gradient_single(param1, C_trans)\n",
        "  gradient_double = qml.grad(evalute_exp_joint, argnum=0)\n",
        "  grad_choi_op = gradient_double(param1, param2, choi_op)\n",
        "  full_gradient = lam*grad_C_trans - lam*mu*grad_choi_op\n",
        "  updated_param = np.add(param1, 0.1*full_gradient)\n",
        "  return updated_param, full_gradient\n",
        "\n",
        "def cost_func(param1, param2, mu):\n",
        "  \"\"\"\n",
        "  This function returns cost function value evaluated at current parameter values.\n",
        "\n",
        "  :param param1: circuit parameters corresponding to wires 0 and 1\n",
        "  :param param2: circuit parameters corresponding to wires 2 and 3\n",
        "  :param mu: trace of y\n",
        "  \"\"\"\n",
        "  exp_C_trans = evalute_exp_wire1(param1, C_trans)\n",
        "  exp_B = evalute_exp_wire2(param2, B)\n",
        "  exp_choi = evalute_exp_joint(param1, param2, choi_op)\n",
        "  return lam*exp_C_trans + mu*exp_B - lam*mu*exp_choi"
      ],
      "metadata": {
        "id": "UjQqKXLXLe0N"
      },
      "execution_count": null,
      "outputs": []
    },
    {
      "cell_type": "code",
      "source": [
        "# Inner function that performs maximization with respect to params1\n",
        "def sup_wrt_params1(params2, mu):\n",
        "  \n",
        "  # initialize params1\n",
        "  params1 = np.random.random(qml.templates.StronglyEntanglingLayers.shape(n_layers=4, n_wires=2))\n",
        "\n",
        "  # store params1\n",
        "  params1_store = [params1]\n",
        "\n",
        "  max_iterations = 100\n",
        "  max_tol = 0.1\n",
        "\n",
        "  # iterate\n",
        "  while True:\n",
        "    params1, full_gradient = cost_func_ALM_grad_step_and_gradient(params1, params2, mu)\n",
        "\n",
        "    # append to the store\n",
        "    params1_store.append(params1)\n",
        "\n",
        "    # check the tolerance\n",
        "    tol = np.linalg.norm(full_gradient)\n",
        "\n",
        "    # stopping criterion\n",
        "    if tol <= max_tol:\n",
        "      break\n",
        "    \n",
        "  # return optimal params\n",
        "  return params1"
      ],
      "metadata": {
        "id": "CTWo_QisNSWB"
      },
      "execution_count": null,
      "outputs": []
    },
    {
      "cell_type": "code",
      "source": [
        "max_outer_iterations = 100\n",
        "max_outer_tol = 1e-04\n",
        "\n",
        "# initial params2\n",
        "params2 = np.random.random(qml.templates.StronglyEntanglingLayers.shape(n_layers=4, n_wires=2))\n",
        "mu = 0.5\n",
        "\n",
        "# learning step\n",
        "learning_step = 0.5\n",
        "\n",
        "# cost function store\n",
        "cost_func_store = []\n",
        "\n",
        "# iterate until convergence\n",
        "for i in range(max_outer_iterations):\n",
        "  # call the maximizer\n",
        "  optimal_params1 = sup_wrt_params1(params2, mu)\n",
        "\n",
        "  # evaluate partial derivative with respect to params2\n",
        "  gradient_single = qml.grad(evalute_exp_wire2, argnum=0)\n",
        "  grad_B = gradient_single(params2, B)\n",
        "  gradient_double = qml.grad(evalute_exp_joint, argnum=1)\n",
        "  grad_choi_op = gradient_double(optimal_params1, params2, choi_op)\n",
        "  full_gradient_params2 = mu*grad_B - lam*mu*grad_choi_op\n",
        "\n",
        "  # evaluate partial derivative with respect to mu\n",
        "  exp_B = evalute_exp_wire2(params2, B)\n",
        "  exp_choi = evalute_exp_joint(optimal_params1, params2, choi_op)\n",
        "  full_gradient_mu = exp_B - lam*exp_choi\n",
        "\n",
        "  # Update params2 and mu\n",
        "  params2 = np.subtract(params2, 0.5*full_gradient_params2)\n",
        "  mu = mu - 0.5*full_gradient_mu\n",
        "\n",
        "  # cost function at these parameters\n",
        "  cost_f = cost_func(optimal_params1, params2, mu)\n",
        "\n",
        "  # append the current value to the store\n",
        "  cost_func_store.append(cost_f)\n",
        "\n",
        "  # print\n",
        "  print(\"Cost function:\", cost_f)"
      ],
      "metadata": {
        "id": "Un0Xe43RNzD9"
      },
      "execution_count": null,
      "outputs": []
    }
  ]
}