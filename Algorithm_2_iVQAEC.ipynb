{
  "nbformat": 4,
  "nbformat_minor": 0,
  "metadata": {
    "colab": {
      "name": "Algorithm 2 iVQAEC.ipynb",
      "provenance": [],
      "authorship_tag": "ABX9TyNyS2C8HeprIdlTA1POguTB"
    },
    "kernelspec": {
      "name": "python3",
      "display_name": "Python 3"
    },
    "language_info": {
      "name": "python"
    }
  },
  "cells": [
    {
      "cell_type": "code",
      "execution_count": null,
      "metadata": {
        "id": "RH4U56H_kpyQ"
      },
      "outputs": [],
      "source": [
        "\"\"\"\n",
        "The following code simulates iVQAEC algorithm on QASM simulator.\n",
        "iVQAEC algorithm is a variational quantum algorithm for equality constrained semidefinite programs (SDPs) that we proposed in our paper.\n",
        "Here, we use iVQAEC to solve random instances of an equality constrained SDP.\n",
        "In the paper, we report simulation results for N = 8, 16, and 32, where N is the dimension of input Hermitian operators of an SDP.\n",
        "For writing clean, short and understandable code, here we fix N = 8. By simply substituting another value of N and with some other minor changes, \n",
        "one can obtain results for that N.\n",
        "\"\"\"\n",
        "\n",
        "\"\"\"\n",
        "This code is based on qiskit-aqua package which recently got deprecated. We intend to use new packages. However, for now the following code is based on\n",
        "qiskit-aqua package. To install it, use the following pip command:\n",
        "\n",
        "!pip install git+https://github.com/Qiskit/qiskit-aqua.git\n",
        "\n",
        "\"\"\""
      ]
    },
    {
      "cell_type": "code",
      "source": [
        "# import packages.\n",
        "import pennylane as qml\n",
        "import numpy as np\n",
        "import cvxpy as cp\n",
        "import qiskit\n",
        "import qiskit.providers.aer.noise as noise\n",
        "import scipy as sc\n",
        "import scipy.stats as stats\n",
        "import scipy.sparse as sparse"
      ],
      "metadata": {
        "id": "rJp_NmzgqDBS"
      },
      "execution_count": null,
      "outputs": []
    },
    {
      "cell_type": "code",
      "source": [
        "def decompose_into_pauli_strings(M):\n",
        "  \"\"\"\n",
        "  This function expresses an Hermitian operator as a linear combination of Pauli strings\n",
        "\n",
        "  :param M: Hermitian operator\n",
        "  \"\"\"\n",
        "  coeffs, pauli_string_objs = qml.utils.decompose_hamiltonian(M)\n",
        "  return qml.Hamiltonian(coeffs, pauli_string_objs)"
      ],
      "metadata": {
        "id": "2CfnpyWgrEKG"
      },
      "execution_count": null,
      "outputs": []
    },
    {
      "cell_type": "code",
      "source": [
        "# modeling noise\n",
        "\n",
        "# probabilities of error for single and two qubit gates\n",
        "prob_1 = 0.001\n",
        "prob_2 = 0.01\n",
        "\n",
        "# Depolarizing errors\n",
        "error_1 = noise.depolarizing_error(prob_1, 1)\n",
        "error_2 = noise.depolarizing_error(prob_2, 2)\n",
        "\n",
        "noise_model = noise.NoiseModel()\n",
        "noise_model.add_all_qubit_quantum_error(error_2, ['cx'])\n",
        "noise_model.add_all_qubit_quantum_error(error_1, ['u1', 'u2', 'u3'])"
      ],
      "metadata": {
        "id": "k3kbsOXzrMRO"
      },
      "execution_count": null,
      "outputs": []
    },
    {
      "cell_type": "code",
      "source": [
        "def sparse_rand_sym(n, density):\n",
        "  \"\"\"\n",
        "  This function generates a sparse symmetric matrix\n",
        "\n",
        "  :param n: dimension of the matrix\n",
        "  :param density: sparsity\n",
        "  \"\"\"\n",
        "  rvs = stats.norm().rvs\n",
        "  \n",
        "  # generates a sparse matrix\n",
        "  X = sparse.random(n, n, density=density, data_rvs=rvs)\n",
        "\n",
        "  # make it symmetric\n",
        "  upper_X = sparse.triu(X) \n",
        "  result = upper_X + upper_X.T - sparse.diags(X.diagonal())\n",
        "  return result"
      ],
      "metadata": {
        "id": "qAxwamZbUFQt"
      },
      "execution_count": null,
      "outputs": []
    },
    {
      "cell_type": "code",
      "source": [
        "# constants of an SDP\n",
        "N = 8\n",
        "M = 3\n",
        "R = 10"
      ],
      "metadata": {
        "id": "IjcymwGTVSYn"
      },
      "execution_count": null,
      "outputs": []
    },
    {
      "cell_type": "code",
      "source": [
        "# generate a weakly constrained random sparse SDP and solve them using cvxpy\n",
        "C = sparse_rand_sym(N, 0.1)\n",
        "A = []\n",
        "b = []\n",
        "for i in range(M-1):\n",
        "    A.append(sparse_rand_sym(N, 0.1))\n",
        "    b.append(np.random.randn())\n",
        "b.append(R)\n",
        "A.append(np.eye(N)) \n",
        "\n",
        "# define the variable and constraints\n",
        "X = cp.Variable((N,N), symmetric=True)\n",
        "# positive semidefinite constraint\n",
        "constraints = [X >> 0]\n",
        "\n",
        "constraints += [\n",
        "    cp.trace(A[i]@X) == b[i] for i in range(M)\n",
        "]\n",
        "\n",
        "# solve the problem\n",
        "prob = cp.Problem(cp.Minimize(cp.trace(C@X)),\n",
        "                  constraints)\n",
        "prob.solve()\n",
        "\n",
        "# result.\n",
        "print(\"Optimal value:\", prob.value)"
      ],
      "metadata": {
        "id": "KX7HEKbTVbzv"
      },
      "execution_count": null,
      "outputs": []
    },
    {
      "cell_type": "code",
      "source": [
        "C = C.todense()\n",
        "A[0] = A[0].todense()\n",
        "A[1] = A[1].todense()"
      ],
      "metadata": {
        "id": "Rpd3sGkfyPhg"
      },
      "execution_count": null,
      "outputs": []
    },
    {
      "cell_type": "code",
      "source": [
        "# Now solving the above SDP using iVQAEC\n",
        "# quantum circuit settings\n",
        "num_wires = 3\n",
        "num_layers = 4\n",
        "\n",
        "# quantum device\n",
        "# can also define the number of shots here\n",
        "device = qml.device(\"default.qubit\", wires=num_wires)\n",
        "\n",
        "# def the ansatz\n",
        "def circuit(param):\n",
        "  \"\"\"\n",
        "  This function instantiates quantum circuit based on templates provided by pennylane\n",
        "\n",
        "  :param param: the parameters of the circuit\n",
        "  \"\"\"\n",
        "  qml.templates.StronglyEntanglingLayers(param, wires=list(range(num_wires)))"
      ],
      "metadata": {
        "id": "pr1Pkftgr8fW"
      },
      "execution_count": null,
      "outputs": []
    },
    {
      "cell_type": "code",
      "source": [
        "# def the cost function (Just the expectation value of the hamiltonian)\n",
        "@qml.qnode(device)\n",
        "def evalute_exp(param, M):\n",
        "  \"\"\"\n",
        "  This function evaluates the expectation value of a Hermitian operator\n",
        "\n",
        "  :param param: circuit parameters\n",
        "  :param M: Hermitian operator\n",
        "  \"\"\"\n",
        "  circuit(param)\n",
        "  M_pauli = decompose_into_pauli_strings(M)\n",
        "  return qml.expval(M_pauli)\n",
        "\n",
        "def cost_func_ALM(param, **kwargs):\n",
        "  \"\"\"\n",
        "  This function evaluates the cost function at given parameters\n",
        "\n",
        "  :param param: circuit parameters\n",
        "  \"\"\"\n",
        "  exp_C = evalute_exp(param, C)\n",
        "  exp_A1 = evalute_exp(param, A[0])\n",
        "  exp_A2 = evalute_exp(param, A[1])\n",
        "  exp_A3 = evalute_exp(param, A[2])\n",
        "  b_minus_phi_vector = np.subtract(b, [R*exp_A1, R*exp_A2, R*exp_A3])\n",
        "  return R*exp_C + np.dot(kwargs['y'], b_minus_phi_vector) + (c/2)*(np.linalg.norm(b_minus_phi_vector)**2)\n",
        "\n",
        "def cost_func_ALM_grad_step_and_cost(param, **kwargs):\n",
        "  \"\"\"\n",
        "  This function evaluates new parameters, as well as returns current cost function value\n",
        "\n",
        "  :param param: circuit parameters\n",
        "  \"\"\"\n",
        "  gradient = qml.grad(evalute_exp, argnum=0)\n",
        "  grad_C = gradient(param, C)\n",
        "  grad_A1 = gradient(param, A[0])\n",
        "  grad_A2 = gradient(param, A[1])\n",
        "  grad_A3 = gradient(param, A[2])\n",
        "  exp_A1 = evalute_exp(param, A[0])\n",
        "  exp_A2 = evalute_exp(param, A[1])\n",
        "  exp_A3 = evalute_exp(param, A[2])\n",
        "  full_gradient = R*grad_C - R*(kwargs['y'][0]*grad_A1 + kwargs['y'][1]*grad_A2 + kwargs['y'][2]*grad_A3) - R*c*(b[0]*grad_A1 - R*exp_A1*grad_A1 + b[1]*grad_A2 - R*exp_A2*grad_A2 + b[2]*grad_A3 - R*exp_A3*grad_A3)\n",
        "  updated_param = np.subtract(param, 0.01*full_gradient)\n",
        "  prev_cost_func_value = cost_func_ALM(param, y=y)\n",
        "  return updated_param, prev_cost_func_value"
      ],
      "metadata": {
        "id": "3wbRjJxhtZeJ"
      },
      "execution_count": null,
      "outputs": []
    },
    {
      "cell_type": "code",
      "source": [
        "# Inner maximizer function\n",
        "def sup_wrt_theta(y):\n",
        "  \n",
        "  # initialize thetas\n",
        "  params_ALM = np.random.random(qml.templates.StronglyEntanglingLayers.shape(n_layers=4, n_wires=3))\n",
        "  # cost function storage\n",
        "  cost_func_ALM_store = [cost_func_ALM(params_ALM, y=y)]\n",
        "\n",
        "  # store the params\n",
        "  params_ALM_store = [params_ALM]\n",
        "\n",
        "  max_iterations = 100\n",
        "  max_tol = 1e-01\n",
        "\n",
        "  # iterate\n",
        "  while True:\n",
        "    params_ALM, prev_cost_func_ALM_value = cost_func_ALM_grad_step_and_cost(params_ALM, y=y)\n",
        "\n",
        "    # append to the store\n",
        "    cost_func_ALM_store.append(cost_func_ALM(params_ALM, y=y))\n",
        "    params_ALM_store.append(params_ALM)\n",
        "\n",
        "    # check the tolerance\n",
        "    tol = np.abs(cost_func_ALM_store[-1] - prev_cost_func_ALM_value)\n",
        "    #print(\"Cost function: \", cost_func_ALM_store[-1], \" Tolerance: \", tol)\n",
        "\n",
        "    if tol <= max_tol:\n",
        "      break\n",
        "    \n",
        "  return params_ALM"
      ],
      "metadata": {
        "id": "MtJ_D7oSuBtn"
      },
      "execution_count": null,
      "outputs": []
    },
    {
      "cell_type": "code",
      "source": [
        "# Outer minimization iteratation\n",
        "max_outer_iterations = 100\n",
        "max_outer_tol = 1e-04\n",
        "\n",
        "# penalty parameter\n",
        "c = 0\n",
        "\n",
        "# initialize y\n",
        "y = [0, 0, 0]\n",
        "\n",
        "for i in range(max_outer_iterations):\n",
        "    optimal_thetas = sup_wrt_theta(y)\n",
        "  # evaluate the expectation values of A1, A2, and A3 wrt optimal thetas\n",
        "    exp_A1 = evalute_exp(optimal_thetas, A[0])\n",
        "    exp_A2 = evalute_exp(optimal_thetas, A[1])\n",
        "    exp_A3 = evalute_exp(optimal_thetas, A[2])\n",
        "\n",
        "  # update the dual variables\n",
        "    y[0] += 0.0005*(b[0] - R*exp_A1)\n",
        "    y[1] += 0.0005*(b[1] - R*exp_A2)\n",
        "    y[2] += 0.0005*(b[2] - R*exp_A3)\n",
        "\n",
        "    print(\"Step:\", i , \" Cost function value:\", cost_func_ALM(optimal_thetas, y=y))"
      ],
      "metadata": {
        "id": "3OgPRTa_uKez"
      },
      "execution_count": null,
      "outputs": []
    }
  ]
}