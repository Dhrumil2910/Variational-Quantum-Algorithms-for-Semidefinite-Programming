{
  "nbformat": 4,
  "nbformat_minor": 0,
  "metadata": {
    "colab": {
      "name": "Algorithm 3 iVQAIC.ipynb",
      "provenance": [],
      "authorship_tag": "ABX9TyN0X1EpF84t+/JY3x9kZd2F",
      "include_colab_link": true
    },
    "kernelspec": {
      "name": "python3",
      "display_name": "Python 3"
    },
    "language_info": {
      "name": "python"
    }
  },
  "cells": [
    {
      "cell_type": "markdown",
      "metadata": {
        "id": "view-in-github",
        "colab_type": "text"
      },
      "source": [
        "<a href=\"https://colab.research.google.com/github/Dhrumil2910/Variational-Quantum-Algorithms-for-Semidefinite-Programming-/blob/main/Algorithm_3_iVQAIC.ipynb\" target=\"_parent\"><img src=\"https://colab.research.google.com/assets/colab-badge.svg\" alt=\"Open In Colab\"/></a>"
      ]
    },
    {
      "cell_type": "code",
      "execution_count": null,
      "metadata": {
        "id": "reQYyEuMRT3u"
      },
      "outputs": [],
      "source": [
        "\"\"\"\n",
        "The following code simulates iVQAIC algorithm on QASM simulator.\n",
        "iVQAIC algorithm is a variational quantum algorithm for inequality constrained semidefinite programs (SDPs) that we proposed in our paper.\n",
        "Here, we use iVQAIC to solve random instances of an inequality constrained SDP.\n",
        "In the paper, we report simulation results for N = 8, 16, and 32, where N is the dimension of input Hermitian operators of an SDP.\n",
        "For writing clean, short and understandable code, here we fix N = 8. By simply substituting another value of N and with some other minor changes, \n",
        "one can obtain results for that N.\n",
        "\"\"\"\n",
        "\n",
        "\"\"\"\n",
        "This code is based on qiskit-aqua package which recently got deprecated. We intend to use new packages. However, for now the following code is based on\n",
        "qiskit-aqua package. To install it, use the following pip command:\n",
        "\n",
        "!pip install git+https://github.com/Qiskit/qiskit-aqua.git\n",
        "\n",
        "\"\"\""
      ]
    },
    {
      "cell_type": "code",
      "source": [
        "# Import packages.\n",
        "import cvxpy as cp\n",
        "import numpy as np\n",
        "import scipy as sc\n",
        "import scipy.stats as stats\n",
        "import scipy.sparse as sparse\n",
        "import qiskit.circuit as qc\n",
        "import qiskit.utils as qu\n",
        "from qiskit import Aer\n",
        "import qiskit.aqua as qaq\n",
        "import matplotlib.pyplot as plt\n",
        "from qiskit import Aer\n",
        "from qiskit.aqua import QuantumInstance\n",
        "from qiskit.aqua.operators import PauliExpectation, CircuitSampler, StateFn"
      ],
      "metadata": {
        "id": "mzceqmlRR9e2"
      },
      "execution_count": null,
      "outputs": []
    },
    {
      "cell_type": "code",
      "source": [
        "def sparse_rand_sym(n, density):\n",
        "  \"\"\"\n",
        "  This function generates a sparse symmetric matrix\n",
        "\n",
        "  :param n: dimension of the matrix\n",
        "  :param density: sparsity\n",
        "  \"\"\"\n",
        "  rvs = stats.norm().rvs\n",
        "  \n",
        "  # generates a sparse matrix\n",
        "  X = sparse.random(n, n, density=density, data_rvs=rvs)\n",
        "\n",
        "  # make it symmetric\n",
        "  upper_X = sparse.triu(X) \n",
        "  result = upper_X + upper_X.T - sparse.diags(X.diagonal())\n",
        "  return result"
      ],
      "metadata": {
        "id": "qAxwamZbUFQt"
      },
      "execution_count": null,
      "outputs": []
    },
    {
      "cell_type": "code",
      "source": [
        "# constants of an SDP\n",
        "N = 8\n",
        "M = 3\n",
        "R = 10"
      ],
      "metadata": {
        "id": "IjcymwGTVSYn"
      },
      "execution_count": null,
      "outputs": []
    },
    {
      "cell_type": "code",
      "source": [
        "# generate a weakly constrained random sparse SDP and solve them using cvxpy\n",
        "C = sparse_rand_sym(N, 0.1)\n",
        "A = []\n",
        "b = []\n",
        "for i in range(M):\n",
        "    A.append(sparse_rand_sym(N, 0.1))\n",
        "    b.append(np.random.randn())\n",
        "\n",
        "# define the variable and constraints\n",
        "X = cp.Variable((N,N), symmetric=True)\n",
        "# positive semidefinite constraint\n",
        "constraints = [X >> 0]\n",
        "\n",
        "constraints += [\n",
        "    cp.trace(A[i]@X) <= b[i] for i in range(M)\n",
        "]\n",
        "constraints += [\n",
        "    cp.trace(X) <= R\n",
        "]\n",
        "\n",
        "# solve the problem\n",
        "prob = cp.Problem(cp.Maximize(cp.trace(C@X)),\n",
        "                  constraints)\n",
        "prob.solve()\n",
        "\n",
        "# result.\n",
        "print(\"Optimal value:\", prob.value)"
      ],
      "metadata": {
        "id": "KX7HEKbTVbzv"
      },
      "execution_count": null,
      "outputs": []
    },
    {
      "cell_type": "code",
      "source": [
        "# Solving the above generated SDP with our algorithm\n",
        "\n",
        "# define the quantum device\n",
        "backend_for_simple_example = Aer.get_backend(\"statevector_simulator\")\n",
        "backend_for_simple_example_qasm = Aer.get_backend(\"qasm_simulator\")\n",
        "q_instance = QuantumInstance(backend_for_simple_example_qasm, shots=1000)"
      ],
      "metadata": {
        "id": "Qd95Jxu3XeX9"
      },
      "execution_count": null,
      "outputs": []
    },
    {
      "cell_type": "code",
      "source": [
        "# decompose the operators of the objective function and constraints into weighted Pauli strings\n",
        "\n",
        "OperFormC = qaq.operators.MatrixOperator(C)\n",
        "C_weighted_pauli = qaq.operators.op_converter.to_weighted_pauli_operator(OperFormC)\n",
        "\n",
        "A_weighted_pauli = []\n",
        "for i in range(M):\n",
        "  OperFormA = qaq.operators.MatrixOperator(A[i])\n",
        "  A_weighted_pauli.append(qaq.operators.op_converter.to_weighted_pauli_operator(OperFormA))"
      ],
      "metadata": {
        "id": "_LRVAbhlYgpu"
      },
      "execution_count": null,
      "outputs": []
    },
    {
      "cell_type": "code",
      "source": [
        "learning_rate = 0.008\n",
        "num_of_iterations = 54\n",
        "\n",
        "# storing the difference between cost function value at each iteration and actual optimal value\n",
        "diff_cost_func_iter_store = []\n",
        "\n",
        "# Initialize y\n",
        "y = np.zeros(M)\n",
        "\n",
        "# iterate until convergence\n",
        "# Stopping criterion can be specificed by stating number of iterations or \n",
        "# checking the norm of the full gradient of the cost function\n",
        "for j in range(num_of_iterations):\n",
        "\n",
        "  # define H(y)\n",
        "  H = C_weighted_pauli.to_opflow()\n",
        "  for i in range(M):\n",
        "    H = H - y[i]*A_weighted_pauli[i].to_opflow()\n",
        "  \n",
        "  # solve inner maximization over quantum circuit parameters\n",
        "  # if you switch to QASM simulator instead of Statevector simulator, change the learning step to 0.0008\n",
        "  # so that it does not diverge \n",
        "  vqe = qaq.algorithms.VQE(-H)\n",
        "  vqe_result = vqe.run(backend_for_simple_example)\n",
        "\n",
        "  # evaluate the difference between current cost function value and actual optimal value\n",
        "  diff_cost_func = np.dot(b, y) + R * np.max(-vqe_result.optimal_value, 0) - prob.value\n",
        "  print(\"Step: \", j, \"How far from actual optimal value: \", diff_cost_func)\n",
        "\n",
        "  # store it\n",
        "  diff_cost_func_iter_store.append(diff_cost_func)\n",
        "\n",
        "  if vqe_result.optimal_value >= 0:\n",
        "    # update the dual variable y\n",
        "    for i in range(M):\n",
        "      y[i] -= learning_rate*(b[i])\n",
        "    continue\n",
        "\n",
        "  # construct a quantum circuit with the optimal points obtained from the inner maximization\n",
        "  optimal_circuit = vqe.construct_circuit(vqe_result['optimal_point'])\n",
        "\n",
        "  # prepare state\n",
        "  psi = qaq.operators.state_fns.CircuitStateFn(optimal_circuit[0])\n",
        "\n",
        "  expec_A = []\n",
        "  # get the expectation values for the next step\n",
        "  for i in range(M):\n",
        "    measurable_expression = StateFn(A_weighted_pauli[i].to_opflow(), is_measurement=True).compose(psi)\n",
        "    expectation = PauliExpectation().convert(measurable_expression)\n",
        "    sampler = CircuitSampler(q_instance).convert(expectation)\n",
        "    expec_A.append(sampler.eval().real)\n",
        "\n",
        "  # update the dual variable y\n",
        "  for i in range(M):\n",
        "    y[i] -= learning_rate*(b[i] - R * expec_A[i])\n",
        "\n",
        "  # clean up the parameterized circuit and reset\n",
        "  vqe.cleanup_parameterized_circuits()"
      ],
      "metadata": {
        "id": "JmikcWM4ZE1e"
      },
      "execution_count": null,
      "outputs": []
    }
  ]
}